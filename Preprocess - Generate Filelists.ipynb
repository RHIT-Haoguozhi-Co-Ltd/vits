{
 "cells": [
  {
   "cell_type": "code",
   "execution_count": 14,
   "id": "1cf8c609",
   "metadata": {},
   "outputs": [],
   "source": [
    "import json\n",
    "import os\n",
    "import pandas as pd\n",
    "import numpy as np\n",
    "from sklearn.model_selection import train_test_split"
   ]
  },
  {
   "cell_type": "code",
   "execution_count": 15,
   "id": "452ee365",
   "metadata": {},
   "outputs": [
    {
     "name": "stdout",
     "output_type": "stream",
     "text": [
      "['001・アーサー王ver1.07.ks.json', '002・祟り神ver1.08.ks.json', '003・巫女の秘密ver1.11.ks.json', '004・学院初日ver1.04.ks.json', '005・鍛錬ver1.04.ks.json', '006・レナ登場ver1.03.ks.json', '007・レナ転入ver1.03.ks.json', '008・仕切り直しver1.02.ks.json', '009・謎の欠片ver1.03.ks.json', '010・リフレッシュver1.04.ks.json', '011・襲来ver1.04.ks.json', '012・病床ver1.06.ks.json', '013・欠片集めver1.06.ks.json', '014・合体編ver1.03.ks.json', '015・ノーマルendver1.01.ks.json', '100・芳乃－語らいver1.01.ks.json', '101・芳乃－弁当ver1.02.ks.json', '102・芳乃－告白ver1.03.ks.json', '103・芳乃－氷解ver1.04.ks.json', '104・芳乃－記者会見ver1.05.ks.json', '105・芳乃－少女漫画ver1.01.ks.json', '106・芳乃－キスver1.01.ks.json', '107・芳乃－獣耳ver1.02.ks.json', '108・芳乃－解呪ver1.01.ks.json', '109・芳乃－平穏ver1.01.ks.json', '110・芳乃－初体験ver1.01.ks.json', '111・芳乃－その後ver1.01.ks.json', '112・芳乃－２回目ver1.01.ks.json', '113・芳乃－母上様ver1.01.ks.json', '114・芳乃－ＥＰver1.01.ks.json', '200・茉子－語らいver1.00.ks.json', '201・茉子－婚約解消ver1.01.ks.json', '202・茉子－実家ver1.01.ks.json', '203・茉子－子犬ver1.01.ks.json', '204・茉子－気持ちver1.00.ks.json', '205・茉子－デートver1.00.ks.json', '206・茉子－オナニーver1.00.ks.json', '207・茉子－初体験ver1.00.ks.json', '208・茉子－いちゃラヴver1.00.ks.json', '209・茉子－暴走改編ver1.01.ks.json', '210・茉子－エピローグver1.00.ks.json', '301・ムラサメちゃんルート０１ver1.3.ks.json', '302・ムラサメちゃんルート０２ver1.3.ks.json', '303・ムラサメちゃんルート０３ver1.2.ks.json', '304・ムラサメちゃんルート０４ver1.2.ks.json', '305・ムラサメちゃんルート０５ver1.2.ks.json', '306・ムラサメちゃんルート０６ver1.3.ks.json', '307・ムラサメちゃんルート０７ver1.2.ks.json', '308・ムラサメちゃんルート０８ver1.2.ks.json', '309・ムラサメちゃんルート０９ver1.3.ks.json', '310・ムラサメちゃんルート１０ver1.2.ks.json', '311・ムラサメちゃんルート１１ver1.2.ks.json', '312・ムラサメちゃんルート１２ver1.2.ks.json', '313・ムラサメちゃんルート１３ver1.2.ks.json', '314・ムラサメちゃんルート１４ver1.3.ks.json', '315・ムラサメちゃんルート１５ver1.3.ks.json', '316・ムラサメちゃんルート１６ver1.2.ks.json', '414レナ・イザナウ.ks.json', '415レナ・欠片吸収.ks.json', '416レナ・クレイジーファイト.ks.json', '417レナ・エニシ.ks.json', '418レナ・馴染む.ks.json', '419レナ・ラップランドの味覚.ks.json', '420レナ・お泊まり会.ks.json', '421レナ・玉石の女神.ks.json', '422レナ・日常デート.ks.json', '423レナ・叢雲より生じたる.ks.json', '424レナ・トモダチ.ks.json', '425レナ・呪いの真実.ks.json', '426レナ・前夜.ks.json', '427レナ・古の祝詞.ks.json', '428レナ・未来への祭祀.ks.json', '501・サブ－新たな日々ver1.00.ks.json', '502・サブ－アルバイトver1.00.ks.json', '503・サブ－小春の目覚めver1.00.ks.json', '504・サブ－芦花の目覚めver1.00.ks.json', '505・サブ－ピンとくる２人ver1.00.ks.json', '506・サブ－恋愛協定ver1.00.ks.json', '507・サブ－選択肢ver1.00.ks.json', '508a・サブ－こはるんver1.00.ks.json', '508b・サブ－芦花姉ver1.00.ks.json', '509・サブ－分岐ver1.00.ks.json', '511・サブ－小春（初体験）ver1.00.ks.json', '512・サブ－小春（その後）ver1.00.ks.json', '521・サブ－芦花（初体験）ver1.00.ks.json', '522・サブ－芦花（その後）ver1.00.ks.json']\n"
     ]
    }
   ],
   "source": [
    "# Directory of scene and voice data\n",
    "main_dir = 'D:/training_data/senrenbanka/'\n",
    "path_to_json = main_dir + 'scenes/'\n",
    "character_name = 'ムラサメ'\n",
    "\n",
    "# Get all scene files\n",
    "json_files = [pos_json for pos_json in os.listdir(path_to_json) if pos_json.endswith('.json')]\n",
    "\n",
    "print(json_files)"
   ]
  },
  {
   "cell_type": "code",
   "execution_count": 16,
   "id": "5d524cdd",
   "metadata": {},
   "outputs": [],
   "source": [
    "def readFile(fname):\n",
    "    file = open(path_to_json + fname, encoding='UTF-8')\n",
    "    data = json.loads(file.read())\n",
    "    file.close()\n",
    "    return data\n",
    "\n",
    "def writeFile(fname, text):\n",
    "    file = open(fname, \"w\", encoding='UTF-8')\n",
    "    n = file.write(text)\n",
    "    file.close()\n",
    "\n",
    "def yuzusoft_scene_parser(scenes, character_name):\n",
    "    for scene in scenes:\n",
    "        if 'texts' in scene:\n",
    "            texts = scene['texts']\n",
    "            for text in texts:\n",
    "#                 print(text[0])\n",
    "                if text[0] == character_name:\n",
    "                    lines= text[2]\n",
    "                    jp_line = lines[0][1]\n",
    "#                     print(jp_line[1:-1])\n",
    "                    jp_line.replace(\"\\u3000\", \" \")\n",
    "                    info = text[3][0]\n",
    "                    voice = info['voice']\n",
    "#                     print(voice)\n",
    "                    tmp = \"wavs/\" + voice + '.wav|' + jp_line[1:-1]\n",
    "                    filelist.append(tmp)"
   ]
  },
  {
   "cell_type": "code",
   "execution_count": 17,
   "id": "da31e8f7",
   "metadata": {},
   "outputs": [],
   "source": [
    "# For each scene, parses the scene, finds the speaker, and saves the line in the list\n",
    "# sample line: mur001_001.wav|ふむ。お主が、吾輩のご主人か？\n",
    "\n",
    "filelist = []\n",
    "for json_file in json_files:\n",
    "    data = readFile(json_file)\n",
    "    scenes = data['scenes']\n",
    "    yuzusoft_scene_parser(scenes, character_name)"
   ]
  },
  {
   "cell_type": "code",
   "execution_count": 18,
   "id": "bec02924",
   "metadata": {},
   "outputs": [
    {
     "name": "stdout",
     "output_type": "stream",
     "text": [
      "(3510, 1)\n"
     ]
    },
    {
     "data": {
      "text/html": [
       "<div>\n",
       "<style scoped>\n",
       "    .dataframe tbody tr th:only-of-type {\n",
       "        vertical-align: middle;\n",
       "    }\n",
       "\n",
       "    .dataframe tbody tr th {\n",
       "        vertical-align: top;\n",
       "    }\n",
       "\n",
       "    .dataframe thead th {\n",
       "        text-align: right;\n",
       "    }\n",
       "</style>\n",
       "<table border=\"1\" class=\"dataframe\">\n",
       "  <thead>\n",
       "    <tr style=\"text-align: right;\">\n",
       "      <th></th>\n",
       "      <th>0</th>\n",
       "    </tr>\n",
       "  </thead>\n",
       "  <tbody>\n",
       "    <tr>\n",
       "      <th>0</th>\n",
       "      <td>wavs/mur001_001.wav|ふむ。お主が、吾輩のご主人か？</td>\n",
       "    </tr>\n",
       "    <tr>\n",
       "      <th>1</th>\n",
       "      <td>wavs/mur001_002.wav|こっちだ、こっち</td>\n",
       "    </tr>\n",
       "    <tr>\n",
       "      <th>2</th>\n",
       "      <td>wavs/mur001_003.wav|お？　その驚き様、ちゃんと見えておるし、聞こえておるな</td>\n",
       "    </tr>\n",
       "    <tr>\n",
       "      <th>3</th>\n",
       "      <td>wavs/mur001_004.wav|違うっ！　吾輩は断じて幽霊などではない！</td>\n",
       "    </tr>\n",
       "    <tr>\n",
       "      <th>4</th>\n",
       "      <td>wavs/mur001_005.wav|吾輩の名前はムラサメ。『叢雨丸』の管理者……まあ、『...</td>\n",
       "    </tr>\n",
       "  </tbody>\n",
       "</table>\n",
       "</div>"
      ],
      "text/plain": [
       "                                                   0\n",
       "0                wavs/mur001_001.wav|ふむ。お主が、吾輩のご主人か？\n",
       "1                       wavs/mur001_002.wav|こっちだ、こっち\n",
       "2    wavs/mur001_003.wav|お？　その驚き様、ちゃんと見えておるし、聞こえておるな\n",
       "3           wavs/mur001_004.wav|違うっ！　吾輩は断じて幽霊などではない！\n",
       "4  wavs/mur001_005.wav|吾輩の名前はムラサメ。『叢雨丸』の管理者……まあ、『..."
      ]
     },
     "execution_count": 18,
     "metadata": {},
     "output_type": "execute_result"
    }
   ],
   "source": [
    "# list -> dataframe in order to do train-test split\n",
    "filelist_df = pd.DataFrame(filelist)\n",
    "print(filelist_df.shape)\n",
    "filelist_df.head(5)"
   ]
  },
  {
   "cell_type": "code",
   "execution_count": 19,
   "id": "e05116c9",
   "metadata": {},
   "outputs": [],
   "source": [
    "# train-test-validate split\n",
    "train, validate, test = np.split(filelist_df.sample(frac=1, random_state=0), [int(.8*len(filelist_df)), int(.9*len(filelist_df))])"
   ]
  },
  {
   "cell_type": "code",
   "execution_count": 20,
   "id": "704a11e7",
   "metadata": {
    "scrolled": false
   },
   "outputs": [
    {
     "name": "stdout",
     "output_type": "stream",
     "text": [
      "(351, 1)\n"
     ]
    },
    {
     "data": {
      "text/html": [
       "<div>\n",
       "<style scoped>\n",
       "    .dataframe tbody tr th:only-of-type {\n",
       "        vertical-align: middle;\n",
       "    }\n",
       "\n",
       "    .dataframe tbody tr th {\n",
       "        vertical-align: top;\n",
       "    }\n",
       "\n",
       "    .dataframe thead th {\n",
       "        text-align: right;\n",
       "    }\n",
       "</style>\n",
       "<table border=\"1\" class=\"dataframe\">\n",
       "  <thead>\n",
       "    <tr style=\"text-align: right;\">\n",
       "      <th></th>\n",
       "      <th>0</th>\n",
       "    </tr>\n",
       "  </thead>\n",
       "  <tbody>\n",
       "    <tr>\n",
       "      <th>1429</th>\n",
       "      <td>wavs/mur302_020.wav|安晴だけではない、穂織で吾輩のことを知っている者は皆...</td>\n",
       "    </tr>\n",
       "    <tr>\n",
       "      <th>3242</th>\n",
       "      <td>wavs/mur414_079.wav|だいいち、勝つための作戦なのであろう？</td>\n",
       "    </tr>\n",
       "    <tr>\n",
       "      <th>2141</th>\n",
       "      <td>wavs/mur307_051.wav|なっ、何でもないっ！</td>\n",
       "    </tr>\n",
       "    <tr>\n",
       "      <th>809</th>\n",
       "      <td>wavs/mur107_006.wav|いきなり青空の下でとは……やるのう、お主ら</td>\n",
       "    </tr>\n",
       "    <tr>\n",
       "      <th>433</th>\n",
       "      <td>wavs/mur010_042.wav|な、なんだと！？　わ、吾輩をたばかったのか、ご主人っ</td>\n",
       "    </tr>\n",
       "  </tbody>\n",
       "</table>\n",
       "</div>"
      ],
      "text/plain": [
       "                                                      0\n",
       "1429  wavs/mur302_020.wav|安晴だけではない、穂織で吾輩のことを知っている者は皆...\n",
       "3242            wavs/mur414_079.wav|だいいち、勝つための作戦なのであろう？\n",
       "2141                     wavs/mur307_051.wav|なっ、何でもないっ！\n",
       "809           wavs/mur107_006.wav|いきなり青空の下でとは……やるのう、お主ら\n",
       "433      wavs/mur010_042.wav|な、なんだと！？　わ、吾輩をたばかったのか、ご主人っ"
      ]
     },
     "execution_count": 20,
     "metadata": {},
     "output_type": "execute_result"
    }
   ],
   "source": [
    "print(test.shape)\n",
    "test.head(5)"
   ]
  },
  {
   "cell_type": "code",
   "execution_count": 21,
   "id": "aa9f178e",
   "metadata": {},
   "outputs": [],
   "source": [
    "def dfToFilelist(df, fname): \n",
    "    tmp_filelist = []\n",
    "    for index, row in test.iterrows():\n",
    "        tmp_filelist.append(row[0])\n",
    "    tmpstr = '\\n'.join(tmp_filelist)\n",
    "    writeFile(main_dir + fname, tmpstr)"
   ]
  },
  {
   "cell_type": "code",
   "execution_count": 22,
   "id": "f94b1126",
   "metadata": {},
   "outputs": [],
   "source": [
    "dfToFilelist(test, \"mur_test_filelist.txt\")\n",
    "dfToFilelist(validate, \"mur_val_filelist.txt\")\n",
    "dfToFilelist(train, \"mur_train_filelist.txt\")"
   ]
  },
  {
   "cell_type": "code",
   "execution_count": null,
   "id": "a7f5b38f",
   "metadata": {},
   "outputs": [],
   "source": []
  }
 ],
 "metadata": {
  "kernelspec": {
   "display_name": "Python 3 (ipykernel)",
   "language": "python",
   "name": "python3"
  },
  "language_info": {
   "codemirror_mode": {
    "name": "ipython",
    "version": 3
   },
   "file_extension": ".py",
   "mimetype": "text/x-python",
   "name": "python",
   "nbconvert_exporter": "python",
   "pygments_lexer": "ipython3",
   "version": "3.7.13"
  }
 },
 "nbformat": 4,
 "nbformat_minor": 5
}
